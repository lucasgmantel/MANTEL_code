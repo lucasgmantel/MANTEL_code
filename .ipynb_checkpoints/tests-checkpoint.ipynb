{
 "cells": [
  {
   "cell_type": "code",
   "execution_count": 14,
   "id": "b20ae045-0301-411b-b799-5afde25a5fdb",
   "metadata": {},
   "outputs": [
    {
     "ename": "TypeError",
     "evalue": "argument of type 'types.SimpleNamespace' is not iterable",
     "output_type": "error",
     "traceback": [
      "\u001b[0;31m---------------------------------------------------------------------------\u001b[0m",
      "\u001b[0;31mTypeError\u001b[0m                                 Traceback (most recent call last)",
      "Cell \u001b[0;32mIn[14], line 8\u001b[0m\n\u001b[1;32m      5\u001b[0m \u001b[38;5;28;01mfrom\u001b[39;00m \u001b[38;5;21;01mtypes\u001b[39;00m \u001b[38;5;28;01mimport\u001b[39;00m SimpleNamespace\n\u001b[1;32m      7\u001b[0m args \u001b[38;5;241m=\u001b[39m SimpleNamespace(number_points\u001b[38;5;241m=\u001b[39m\u001b[38;5;241m92\u001b[39m, angle\u001b[38;5;241m=\u001b[39m\u001b[38;5;28;01mNone\u001b[39;00m, exclude_poles\u001b[38;5;241m=\u001b[39m\u001b[38;5;28;01mFalse\u001b[39;00m, outfile\u001b[38;5;241m=\u001b[39m\u001b[38;5;28;01mNone\u001b[39;00m)\n\u001b[0;32m----> 8\u001b[0m points_unitaires \u001b[38;5;241m=\u001b[39m \u001b[43mcalc_points\u001b[49m\u001b[43m(\u001b[49m\u001b[43margs\u001b[49m\u001b[43m)\u001b[49m\n\u001b[1;32m     10\u001b[0m \u001b[38;5;66;03m# --- paramètres ---\u001b[39;00m\n\u001b[1;32m     11\u001b[0m R_sonde \u001b[38;5;241m=\u001b[39m \u001b[38;5;241m1.4\u001b[39m  \u001b[38;5;66;03m# rayon de l'eau en Å\u001b[39;00m\n",
      "File \u001b[0;32m~/Cours_M2/python/MANTEL_code/sph_saff.py:43\u001b[0m, in \u001b[0;36mcalc_points\u001b[0;34m(args)\u001b[0m\n\u001b[1;32m     41\u001b[0m \u001b[38;5;28;01mdef\u001b[39;00m \u001b[38;5;21mcalc_points\u001b[39m(args):\n\u001b[1;32m     42\u001b[0m     points \u001b[38;5;241m=\u001b[39m []\n\u001b[0;32m---> 43\u001b[0m     use_angle \u001b[38;5;241m=\u001b[39m \u001b[38;5;124;43m'\u001b[39;49m\u001b[38;5;124;43mangle\u001b[39;49m\u001b[38;5;124;43m'\u001b[39;49m\u001b[43m \u001b[49m\u001b[38;5;129;43;01min\u001b[39;49;00m\u001b[43m \u001b[49m\u001b[43margs\u001b[49m \u001b[38;5;129;01mand\u001b[39;00m args\u001b[38;5;241m.\u001b[39mangle \u001b[38;5;129;01mis\u001b[39;00m \u001b[38;5;129;01mnot\u001b[39;00m \u001b[38;5;28;01mNone\u001b[39;00m\n\u001b[1;32m     44\u001b[0m     \u001b[38;5;28;01mif\u001b[39;00m use_angle:\n\u001b[1;32m     45\u001b[0m         ang \u001b[38;5;241m=\u001b[39m (args\u001b[38;5;241m.\u001b[39mangle \u001b[38;5;241m*\u001b[39m math\u001b[38;5;241m.\u001b[39mpi\u001b[38;5;241m/\u001b[39m\u001b[38;5;241m180\u001b[39m) \u001b[38;5;241m%\u001b[39m (\u001b[38;5;241m2\u001b[39m\u001b[38;5;241m*\u001b[39mmath\u001b[38;5;241m.\u001b[39mpi)\n",
      "\u001b[0;31mTypeError\u001b[0m: argument of type 'types.SimpleNamespace' is not iterable"
     ]
    }
   ],
   "source": [
    "import math\n",
    "from Bio.PDB import PDBParser\n",
    "from sph_saff import calc_points  # ton script Saff/Kuiljaars\n",
    "from anti_lib import Vec  # si nécessaire pour les points\n",
    "from types import SimpleNamespace\n",
    "\n",
    "args = SimpleNamespace(number_points=92, angle=None, exclude_poles=False, outfile=None)\n",
    "points_unitaires = calc_points(args)\n",
    "\n",
    "# --- paramètres ---\n",
    "R_sonde = 1.4  # rayon de l'eau en Å\n",
    "VDW_radii = {'C': 1.7, 'N': 1.55, 'O': 1.52, 'S': 1.8, 'H': 1.2}  # ex\n",
    "\n",
    "# --- charger la structure ---\n",
    "parser = PDBParser(QUIET=True)\n",
    "structure = parser.get_structure(\"test\", \"1AKI.pdb\")\n",
    "\n",
    "# prendre un atome au hasard pour test\n",
    "atom = list(structure.get_atoms())[0]\n",
    "\n",
    "# rayon sphère = VdW + rayon sonde\n",
    "rayon_sphere = VDW_radii.get(atom.element, 1.5) + R_sonde\n",
    "\n",
    "# créer la sphère de points\n",
    "class Args:\n",
    "    number_points = 92\n",
    "    angle = None\n",
    "\n",
    "args = SimpleNamespace(number_points=92, angle=None, exclude_poles=False, outfile=None)\n",
    "points_unitaires = calc_points(args)\n",
    "points_atom = [(atom.coord[0] + p.x*rayon_sphere,\n",
    "                atom.coord[1] + p.y*rayon_sphere,\n",
    "                atom.coord[2] + p.z*rayon_sphere)\n",
    "               for p in points_unitaires]\n",
    "\n",
    "# --- vérifier l'accessibilité des points ---\n",
    "accessible_points = 0\n",
    "all_atoms = list(structure.get_atoms())\n",
    "for px, py, pz in points_atom:\n",
    "    is_accessible = True\n",
    "    for other in all_atoms:\n",
    "        if other == atom:\n",
    "            continue\n",
    "        r = VDW_radii.get(other.element, 1.5) + R_sonde\n",
    "        dx, dy, dz = px - other.coord[0], py - other.coord[1], pz - other.coord[2]\n",
    "        if dx*dx + dy*dy + dz*dz < r*r:\n",
    "            is_accessible = False\n",
    "            break\n",
    "    if is_accessible:\n",
    "        accessible_points += 1\n",
    "\n",
    "# --- calcul SASA ---\n",
    "surface_point = 4 * math.pi * rayon_sphere**2 / Args.number_points\n",
    "SASA_atom = accessible_points * surface_point\n",
    "\n",
    "print(f\"Atome: {atom.get_name()}, SASA = {SASA_atom:.2f} Å²\")\n"
   ]
  }
 ],
 "metadata": {
  "kernelspec": {
   "display_name": "Python 3 (ipykernel)",
   "language": "python",
   "name": "python3"
  },
  "language_info": {
   "codemirror_mode": {
    "name": "ipython",
    "version": 3
   },
   "file_extension": ".py",
   "mimetype": "text/x-python",
   "name": "python",
   "nbconvert_exporter": "python",
   "pygments_lexer": "ipython3",
   "version": "3.12.2"
  }
 },
 "nbformat": 4,
 "nbformat_minor": 5
}
